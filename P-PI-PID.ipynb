{
 "cells": [
  {
   "cell_type": "code",
   "execution_count": 2,
   "id": "d7cf8f06",
   "metadata": {},
   "outputs": [],
   "source": [
    "'''SEBASTIAN ALZATE SIERRA'''\n",
    "import control as co\n",
    "import matplotlib.pyplot as plt\n",
    "from AG_GENERAL import *"
   ]
  },
  {
   "cell_type": "markdown",
   "id": "accfcf25",
   "metadata": {},
   "source": [
    "# CONTROLADOR P"
   ]
  },
  {
   "cell_type": "markdown",
   "id": "2c30d8a1",
   "metadata": {},
   "source": [
    "### LAZO ABIERTO"
   ]
  },
  {
   "cell_type": "code",
   "execution_count": 3,
   "id": "ac3c9160",
   "metadata": {},
   "outputs": [
    {
     "data": {
      "text/latex": [
       "$$\\frac{0.006679}{s^2 + 0.2547 s + 0.008125}$$"
      ],
      "text/plain": [
       "TransferFunction(array([0.006679]), array([1.      , 0.2547  , 0.008125]))"
      ]
     },
     "execution_count": 3,
     "metadata": {},
     "output_type": "execute_result"
    }
   ],
   "source": [
    "num = 0.006679\n",
    "den = [1, 0.2547, 0.008125]\n",
    "G = co.tf(num, den)\n",
    "G"
   ]
  },
  {
   "cell_type": "code",
   "execution_count": 4,
   "id": "9da8032e",
   "metadata": {
    "scrolled": true
   },
   "outputs": [
    {
     "name": "stdout",
     "output_type": "stream",
     "text": [
      "Informacion de Funcion de transferencia lazo abierto: \n",
      " {'RiseTime': 59.68024589558046, 'SettlingTime': 109.83704829718532, 'SettlingMin': 0.7399180978670309, 'SettlingMax': 0.8220307692307691, 'Overshoot': 0, 'Undershoot': 0, 'Peak': 0.8210379164197981, 'PeakTime': 184.75480378312676, 'SteadyStateValue': 0.8220307692307691}\n"
     ]
    }
   ],
   "source": [
    "data_la = co.step_info(G)\n",
    "print(f'Informacion de Funcion de transferencia lazo abierto: \\n {data_la}')"
   ]
  },
  {
   "cell_type": "code",
   "execution_count": 5,
   "id": "6729415c",
   "metadata": {},
   "outputs": [
    {
     "data": {
      "text/plain": [
       "0.0"
      ]
     },
     "execution_count": 5,
     "metadata": {},
     "output_type": "execute_result"
    }
   ],
   "source": [
    "parametros = list(data_la.values())\n",
    "mp = float(parametros[4])\n",
    "mp"
   ]
  },
  {
   "cell_type": "code",
   "execution_count": 6,
   "id": "4f0f524d",
   "metadata": {},
   "outputs": [
    {
     "data": {
      "image/png": "[encoded data removed]",
      "text/plain": [
       "<Figure size 432x288 with 1 Axes>"
      ]
     },
     "metadata": {
      "needs_background": "light"
     },
     "output_type": "display_data"
    }
   ],
   "source": [
    "response = co.step_response(G)\n",
    "plt.plot(response.time, response.outputs, response.time, response.inputs, linewidth = 2)\n",
    "plt.title('Funcion de transferencia lazo abierto')\n",
    "plt.legend(['output', 'input'])\n",
    "plt.xlabel('Time')\n",
    "plt.ylabel('Variable')\n",
    "plt.grid()\n",
    "plt.show()"
   ]
  },
  {
   "cell_type": "markdown",
   "id": "bb589a27",
   "metadata": {},
   "source": [
    "### LAZO CERRADO"
   ]
  },
  {
   "cell_type": "code",
   "execution_count": 7,
   "id": "0cb28337",
   "metadata": {},
   "outputs": [
    {
     "name": "stdout",
     "output_type": "stream",
     "text": [
      "Informacion de Funcion de transferencia realimentada sin controlador: \n",
      " {'RiseTime': 29.5438968922379, 'SettlingTime': 52.86802601768888, 'SettlingMin': 0.40713858522268975, 'SettlingMax': 0.4511618481491489, 'Overshoot': 0, 'Undershoot': 0, 'Peak': 0.45017395134200144, 'PeakTime': 76.96962611398821, 'SteadyStateValue': 0.4511618481491489}\n"
     ]
    }
   ],
   "source": [
    "G_realimentado = co.feedback(G)\n",
    "data2 = co.step_info(G_realimentado)\n",
    "print(f'Informacion de Funcion de transferencia realimentada sin controlador: \\n {data2}')"
   ]
  },
  {
   "cell_type": "code",
   "execution_count": 8,
   "id": "03740523",
   "metadata": {},
   "outputs": [
    {
     "data": {
      "text/latex": [
       "$$\\frac{0.006679}{s^2 + 0.2547 s + 0.0148}$$"
      ],
      "text/plain": [
       "TransferFunction(array([0.006679]), array([1.      , 0.2547  , 0.014804]))"
      ]
     },
     "execution_count": 8,
     "metadata": {},
     "output_type": "execute_result"
    }
   ],
   "source": [
    "G_realimentado"
   ]
  },
  {
   "cell_type": "code",
   "execution_count": 9,
   "id": "6f5e1da5",
   "metadata": {},
   "outputs": [
    {
     "data": {
      "image/png": "[encoded data removed]",
      "text/plain": [
       "<Figure size 432x288 with 1 Axes>"
      ]
     },
     "metadata": {
      "needs_background": "light"
     },
     "output_type": "display_data"
    }
   ],
   "source": [
    "response_G = co.step_response(G_realimentado)\n",
    "plt.plot(response_G.time, response_G.outputs, response_G.time, response_G.inputs, linewidth = 2)\n",
    "plt.title('Funcion de transferencia realimentada sin controlador')\n",
    "plt.xlabel('Time')\n",
    "plt.ylabel('Variable')\n",
    "plt.legend(['output', 'input'])\n",
    "plt.grid()\n",
    "plt.show()    "
   ]
  },
  {
   "cell_type": "markdown",
   "id": "c4797f20",
   "metadata": {},
   "source": [
    "## AG"
   ]
  },
  {
   "cell_type": "code",
   "execution_count": 10,
   "id": "bd59da8b",
   "metadata": {},
   "outputs": [],
   "source": [
    "def funcion_objetivo(kp):\n",
    "    num = 0.006679\n",
    "    den = [1, 0.2547, 0.008125]\n",
    "    G = co.tf(num, den)\n",
    "    numc = [kp]\n",
    "    denc = [1]\n",
    "    Gc = co.tf(numc, denc)\n",
    "    Gt = co.series(Gc, G)\n",
    "    Gtc = co.feedback(Gt)\n",
    "    data = co.step_info(Gtc)\n",
    "    response = co.step_response(Gtc)\n",
    "    data = co.step_info(Gtc)\n",
    "    parametros = list(data.values())\n",
    "    mp = float(parametros[4])\n",
    "    #e_ss = abs(1- response.outputs[-1])+abs(mp-0.2) #ERROR EN ESTADO ESTABLE 0 Y MP REDUCCION 0.2\n",
    "    e_ss = abs(0.8- response.outputs[-1])\n",
    "    return (e_ss)\n"
   ]
  },
  {
   "cell_type": "code",
   "execution_count": 11,
   "id": "59f6db4d",
   "metadata": {},
   "outputs": [],
   "source": [
    "poblacion = Poblacion(\n",
    "                  n_individuos = 100,\n",
    "                  n_variables  = 1,\n",
    "                  limites_inf  = [0.001],\n",
    "                  limites_sup  = [1000],\n",
    "                  verbose      = False\n",
    "                  )"
   ]
  },
  {
   "cell_type": "code",
   "execution_count": 12,
   "id": "28dc4752",
   "metadata": {},
   "outputs": [
    {
     "name": "stdout",
     "output_type": "stream",
     "text": [
      "-------------------------------------------\n",
      "Optimización finalizada 2023-06-09 08:23:27\n",
      "-------------------------------------------\n",
      "Duración optimización: 85.68154501914978\n",
      "Número de generaciones: 29\n",
      "Valor óptimo de las variables: [4.877666721530068]\n",
      "Valor función objetivo: 0.0003319200086140395\n",
      "\n"
     ]
    }
   ],
   "source": [
    "variables_optimas = poblacion.optimizar(\n",
    "          funcion_objetivo   = funcion_objetivo,\n",
    "          optimizacion       = \"minimizar\",\n",
    "          n_generaciones     = 30,\n",
    "          metodo_seleccion   = \"tournament\",\n",
    "          elitismo           = 0.08,\n",
    "          prob_mut           = 0.1,\n",
    "          distribucion       = \"uniforme\",\n",
    "          media_distribucion = 1,\n",
    "          sd_distribucion    = 1,\n",
    "          min_distribucion   = -1,\n",
    "          max_distribucion   = 1,\n",
    "          parada_temprana    = False,\n",
    "          rondas_parada      = 100,\n",
    "          tolerancia_parada  = 10**-16,\n",
    "          verbose            = False\n",
    "            )\n"
   ]
  },
  {
   "cell_type": "code",
   "execution_count": 13,
   "id": "5ad369a3",
   "metadata": {},
   "outputs": [
    {
     "name": "stdout",
     "output_type": "stream",
     "text": [
      "0.0003319200086140395\n"
     ]
    }
   ],
   "source": [
    "kp=4.877666721530068\n",
    "error = funcion_objetivo(kp)\n",
    "print(error)"
   ]
  },
  {
   "cell_type": "code",
   "execution_count": 14,
   "id": "659c60ac",
   "metadata": {},
   "outputs": [
    {
     "data": {
      "text/latex": [
       "$$\\frac{4.878}{1}$$"
      ],
      "text/plain": [
       "TransferFunction(array([4.87766672]), array([1]))"
      ]
     },
     "execution_count": 14,
     "metadata": {},
     "output_type": "execute_result"
    }
   ],
   "source": [
    "numc = [kp]\n",
    "denc = [1]\n",
    "Gc = co.tf(numc, denc) #FdT CONTROLADOR\n",
    "Gc"
   ]
  },
  {
   "cell_type": "code",
   "execution_count": 15,
   "id": "c3d00439",
   "metadata": {},
   "outputs": [
    {
     "data": {
      "text/latex": [
       "$$\\frac{0.03258}{s^2 + 0.2547 s + 0.008125}$$"
      ],
      "text/plain": [
       "TransferFunction(array([0.03257794]), array([1.      , 0.2547  , 0.008125]))"
      ]
     },
     "execution_count": 15,
     "metadata": {},
     "output_type": "execute_result"
    }
   ],
   "source": [
    "Gt=co.series(Gc,G)\n",
    "Gt"
   ]
  },
  {
   "cell_type": "code",
   "execution_count": 16,
   "id": "e42dedee",
   "metadata": {},
   "outputs": [
    {
     "data": {
      "text/latex": [
       "$$\\frac{0.03258}{s^2 + 0.2547 s + 0.0407}$$"
      ],
      "text/plain": [
       "TransferFunction(array([0.03257794]), array([1.        , 0.2547    , 0.04070294]))"
      ]
     },
     "execution_count": 16,
     "metadata": {},
     "output_type": "execute_result"
    }
   ],
   "source": [
    "Gtc = co.feedback(Gt)\n",
    "Gtc"
   ]
  },
  {
   "cell_type": "code",
   "execution_count": 17,
   "id": "ce4ecd74",
   "metadata": {
    "scrolled": false
   },
   "outputs": [
    {
     "name": "stdout",
     "output_type": "stream",
     "text": [
      "Informacion de Funcion de transferencia realimentada con controlador: \n",
      " {'RiseTime': 9.314332150931882, 'SettlingTime': 30.134604017720797, 'SettlingMin': 0.7204443476803434, 'SettlingMax': 0.8624062624339622, 'Overshoot': 7.7492045497590025, 'Undershoot': 0, 'Peak': 0.8624062624339622, 'PeakTime': 20.272369975557627, 'SteadyStateValue': 0.8003829504241952}\n"
     ]
    }
   ],
   "source": [
    "data_controlador = co.step_info(Gtc)\n",
    "data3 = co.step_info(Gtc) #Informacion Controlador realimentado\n",
    "print(f'Informacion de Funcion de transferencia realimentada con controlador: \\n {data3}')"
   ]
  },
  {
   "cell_type": "code",
   "execution_count": 18,
   "id": "3831c79b",
   "metadata": {},
   "outputs": [
    {
     "data": {
      "text/plain": [
       "7.7492045497590025"
      ]
     },
     "execution_count": 18,
     "metadata": {},
     "output_type": "execute_result"
    }
   ],
   "source": [
    "data = co.step_info(Gtc)\n",
    "parametros = list(data.values())\n",
    "mp = float(parametros[4])\n",
    "mp"
   ]
  },
  {
   "cell_type": "code",
   "execution_count": 19,
   "id": "8056033a",
   "metadata": {},
   "outputs": [
    {
     "data": {
      "image/png": "[encoded data removed]",
      "text/plain": [
       "<Figure size 432x288 with 1 Axes>"
      ]
     },
     "metadata": {
      "needs_background": "light"
     },
     "output_type": "display_data"
    }
   ],
   "source": [
    "response_controlador = co.step_response(Gtc)\n",
    "plt.plot(response_controlador.time, response_controlador.outputs, \n",
    "    response_controlador.time, response_controlador.inputs, linewidth = 2)\n",
    "plt.title('Funcion de transferencia realimentada con controlador')\n",
    "plt.xlabel('Time')\n",
    "plt.ylabel('Variable')\n",
    "plt.legend(['Output', 'Input'])\n",
    "plt.grid()\n"
   ]
  },
  {
   "cell_type": "markdown",
   "id": "3881c088",
   "metadata": {},
   "source": [
    "# CONTROLADOR PI"
   ]
  },
  {
   "cell_type": "markdown",
   "id": "1dae40c3",
   "metadata": {},
   "source": [
    "### LAZO ABIERTO"
   ]
  },
  {
   "cell_type": "code",
   "execution_count": 30,
   "id": "3abb9e6f",
   "metadata": {},
   "outputs": [
    {
     "data": {
      "text/latex": [
       "$$\\frac{0.9089}{52.33 s + 1}$$"
      ],
      "text/plain": [
       "TransferFunction(array([0.90888]), array([52.32874,  1.     ]))"
      ]
     },
     "execution_count": 30,
     "metadata": {},
     "output_type": "execute_result"
    }
   ],
   "source": [
    "num = 0.90888\n",
    "den = [52.32874, 1]\n",
    "G = co.tf(num, den)\n",
    "G"
   ]
  },
  {
   "cell_type": "code",
   "execution_count": 31,
   "id": "24db0e05",
   "metadata": {},
   "outputs": [
    {
     "name": "stdout",
     "output_type": "stream",
     "text": [
      "Informacion de Funcion de transferencia lazo abierto: \n",
      " {'RiseTime': 113.18886898284843, 'SettlingTime': 208.12146877491486, 'SettlingMin': 0.8179920000000004, 'SettlingMax': 0.90888, 'Overshoot': 0, 'Undershoot': 0, 'Peak': 0.9079711200000006, 'PeakTime': 361.4741299774837, 'SteadyStateValue': 0.90888}\n"
     ]
    }
   ],
   "source": [
    "data = co.step_info(G)\n",
    "print(f'Informacion de Funcion de transferencia lazo abierto: \\n {data}')"
   ]
  },
  {
   "cell_type": "code",
   "execution_count": 32,
   "id": "715f80d7",
   "metadata": {
    "scrolled": true
   },
   "outputs": [
    {
     "data": {
      "image/png": "[encoded data removed]",
      "text/plain": [
       "<Figure size 432x288 with 1 Axes>"
      ]
     },
     "metadata": {
      "needs_background": "light"
     },
     "output_type": "display_data"
    }
   ],
   "source": [
    "response = co.step_response(G)\n",
    "plt.plot(response.time, response.outputs, response.time, response.inputs, linewidth = 2)\n",
    "plt.title('Funcion de transferencia lazo abierto')\n",
    "plt.legend(['Output', 'Input'])\n",
    "plt.xlabel('Time')\n",
    "plt.ylabel('Variable')\n",
    "plt.grid()\n",
    "plt.show()"
   ]
  },
  {
   "cell_type": "markdown",
   "id": "40946f9e",
   "metadata": {},
   "source": [
    "### Lazo cerrado"
   ]
  },
  {
   "cell_type": "code",
   "execution_count": 83,
   "id": "baa41a24",
   "metadata": {
    "scrolled": true
   },
   "outputs": [
    {
     "name": "stdout",
     "output_type": "stream",
     "text": [
      "Informacion de Funcion de transferencia realimentada sin controlador: \n",
      " {'RiseTime': 61.208731204164145, 'SettlingTime': 109.02805245741739, 'SettlingMin': 0.4317283155612075, 'SettlingMax': 0.4761326013159549, 'Overshoot': 0, 'Undershoot': 0, 'Peak': 0.4756564687146388, 'PeakTime': 189.36451216288282, 'SteadyStateValue': 0.4761326013159549}\n"
     ]
    }
   ],
   "source": [
    "G_realimentado = co.feedback(G)\n",
    "data2 = co.step_info(G_realimentado)\n",
    "print(f'Informacion de Funcion de transferencia realimentada sin controlador: \\n {data2}')"
   ]
  },
  {
   "cell_type": "code",
   "execution_count": 84,
   "id": "42c34b19",
   "metadata": {
    "scrolled": true
   },
   "outputs": [
    {
     "data": {
      "image/png": "[encoded data removed]",
      "text/plain": [
       "<Figure size 432x288 with 1 Axes>"
      ]
     },
     "metadata": {
      "needs_background": "light"
     },
     "output_type": "display_data"
    }
   ],
   "source": [
    "response_G = co.step_response(G_realimentado)\n",
    "plt.plot(response_G.time, response_G.outputs, response_G.time, response_G.inputs, linewidth = 2)\n",
    "plt.title('Funcion de transferencia realimentada sin controlador')\n",
    "plt.xlabel('Time')\n",
    "plt.ylabel('Variable')\n",
    "plt.legend(['output', 'input'])\n",
    "plt.grid()\n",
    "plt.show()    "
   ]
  },
  {
   "cell_type": "markdown",
   "id": "d116d707",
   "metadata": {},
   "source": [
    "### Función de trasnferencia Controlador PI"
   ]
  },
  {
   "cell_type": "markdown",
   "id": "9f13ac05",
   "metadata": {},
   "source": [
    "### <div align=\"center\">$k_{c}$ * $\\frac{T_{i}s +1}{T_{i} s}$</div>"
   ]
  },
  {
   "cell_type": "markdown",
   "id": "284b1c4a",
   "metadata": {},
   "source": [
    "### <div align=\"center\"> $\\frac{k_{c} T_{i}s+ k_{c}}{T_{i} s}$</div>"
   ]
  },
  {
   "cell_type": "markdown",
   "id": "b6659ed0",
   "metadata": {},
   "source": [
    "### AG"
   ]
  },
  {
   "cell_type": "code",
   "execution_count": 41,
   "id": "fc96fd99",
   "metadata": {},
   "outputs": [],
   "source": [
    "def funcion_objetivo(K,Ti):\n",
    "    num = 0.90888\n",
    "    den = [52.32874, 1]\n",
    "    numc = [K*Ti, Ti]\n",
    "    denc = [Ti, 0]\n",
    "    G = co.tf(num, den) #FdT\n",
    "    Gc = co.tf(numc, denc) #CONTROLADOR\n",
    "    Gt = co.series(G, Gc) #FdT SERIE CON CONTROLADOR\n",
    "    Gtc = co.feedback(Gt) #REALIMENTAR SISTEMA\n",
    "    response = co.step_response(Gtc) #RESPUESTA ESCALON SISTEMA\n",
    "    data = co.step_info(Gtc)\n",
    "    parametros = list(data.values())\n",
    "    mp = float(parametros[4])\n",
    "    tss = float(parametros[1])\n",
    "    #e= sum(abs(response.inputs - response.outputs))\n",
    "    e = abs(tss-50)\n",
    "    return e"
   ]
  },
  {
   "cell_type": "code",
   "execution_count": 42,
   "id": "d54b203d",
   "metadata": {},
   "outputs": [],
   "source": [
    "poblacion = Poblacion(\n",
    "                  n_individuos = 100,\n",
    "                  n_variables  = 2,\n",
    "                  limites_inf  = [0, 0.0001],\n",
    "                  limites_sup  = [1000, 5],\n",
    "                  verbose      = False\n",
    "                  )"
   ]
  },
  {
   "cell_type": "code",
   "execution_count": 43,
   "id": "8c0d47af",
   "metadata": {},
   "outputs": [
    {
     "name": "stdout",
     "output_type": "stream",
     "text": [
      "-------------------------------------------\n",
      "Optimización finalizada 2023-06-09 08:45:01\n",
      "-------------------------------------------\n",
      "Duración optimización: 216.10513830184937\n",
      "Número de generaciones: 99\n",
      "Valor óptimo de las variables: [7.962468846965056 2.123701159863306]\n",
      "Valor función objetivo: 0.3528019385469321\n",
      "\n"
     ]
    }
   ],
   "source": [
    "variables_optimas = poblacion.optimizar(\n",
    "          funcion_objetivo   = funcion_objetivo,\n",
    "          optimizacion       = \"minimizar\",\n",
    "          n_generaciones     = 100,\n",
    "          metodo_seleccion   = \"tournament\",\n",
    "          elitismo           = 0.08, #porcentaje de mejores ind. que pasan\n",
    "          prob_mut           = 0.1, #probabildad de mutación cada ind.\n",
    "          distribucion       = \"uniforme\", #distribucion factor mutacion, puede ser normal, aleatoria, unif\n",
    "          media_distribucion = 1,\n",
    "          sd_distribucion    = 1, #desviacion estandar\n",
    "          min_distribucion   = -1, \n",
    "          max_distribucion   = 1,\n",
    "          parada_temprana    = False,\n",
    "          rondas_parada      = 20,\n",
    "          tolerancia_parada  = 10**-16,\n",
    "          verbose            = False\n",
    "            )"
   ]
  },
  {
   "cell_type": "code",
   "execution_count": 44,
   "id": "bb3919d7",
   "metadata": {},
   "outputs": [
    {
     "name": "stdout",
     "output_type": "stream",
     "text": [
      "0.3528019385469321\n"
     ]
    }
   ],
   "source": [
    "kp=7.962468846965056\n",
    "ti=2.123701159863306\n",
    "error = funcion_objetivo(kp, ti)\n",
    "print(error)"
   ]
  },
  {
   "cell_type": "code",
   "execution_count": 45,
   "id": "b01eb083",
   "metadata": {},
   "outputs": [
    {
     "name": "stdout",
     "output_type": "stream",
     "text": [
      "Las parametros optimos para el controlador son\n",
      "Ganancia proporcional: 7.962468846965056\n",
      "tiempo integral: 2.123701159863306\n"
     ]
    }
   ],
   "source": [
    "print('Las parametros optimos para el controlador son')\n",
    "print(f'Ganancia proporcional: {kp}')\n",
    "print(f'tiempo integral: {ti}')"
   ]
  },
  {
   "cell_type": "code",
   "execution_count": 46,
   "id": "aa02422e",
   "metadata": {},
   "outputs": [
    {
     "data": {
      "text/latex": [
       "$$\\frac{16.91 s + 2.124}{2.124 s}$$"
      ],
      "text/plain": [
       "TransferFunction(array([16.90990433,  2.12370116]), array([2.12370116, 0.        ]))"
      ]
     },
     "execution_count": 46,
     "metadata": {},
     "output_type": "execute_result"
    }
   ],
   "source": [
    "numc = [kp*ti, ti]\n",
    "denc = [ti, 0]\n",
    "Gc = co.tf(numc, denc) #FdT CONTROLADOR\n",
    "Gc"
   ]
  },
  {
   "cell_type": "code",
   "execution_count": 47,
   "id": "17c7b33a",
   "metadata": {},
   "outputs": [
    {
     "data": {
      "text/latex": [
       "$$\\frac{15.37 s + 1.93}{111.1 s^2 + 2.124 s}$$"
      ],
      "text/plain": [
       "TransferFunction(array([15.36907384,  1.93018951]), array([111.13060583,   2.12370116,   0.        ]))"
      ]
     },
     "execution_count": 47,
     "metadata": {},
     "output_type": "execute_result"
    }
   ],
   "source": [
    "Gt = co.series(G, Gc) #Controlador en serie con la FdT\n",
    "Gt"
   ]
  },
  {
   "cell_type": "code",
   "execution_count": 48,
   "id": "c54a9639",
   "metadata": {},
   "outputs": [
    {
     "name": "stdout",
     "output_type": "stream",
     "text": [
      "Informacion de Funcion de transferencia realimentada con controlador: \n",
      " {'RiseTime': 7.9790139741621, 'SettlingTime': 49.64719806145307, 'SettlingMin': 0.9314413898789659, 'SettlingMax': 1.2094697555940042, 'Overshoot': 20.946975559400414, 'Undershoot': 0, 'Peak': 1.2094697555940042, 'PeakTime': 18.617699273044902, 'SteadyStateValue': 1.0}\n"
     ]
    }
   ],
   "source": [
    "Gtc = co.feedback(Gt) #Controlador realimentado\n",
    "data3 = co.step_info(Gtc) #Informacion Controlador realimentado\n",
    "print(f'Informacion de Funcion de transferencia realimentada con controlador: \\n {data3}')"
   ]
  },
  {
   "cell_type": "code",
   "execution_count": 49,
   "id": "066c8206",
   "metadata": {
    "scrolled": true
   },
   "outputs": [
    {
     "data": {
      "image/png": "[encoded data removed]",
      "text/plain": [
       "<Figure size 432x288 with 1 Axes>"
      ]
     },
     "metadata": {
      "needs_background": "light"
     },
     "output_type": "display_data"
    }
   ],
   "source": [
    "response_controlador = co.step_response(Gtc) #Step Controlador\n",
    "\n",
    "plt.plot(response_controlador.time, response_controlador.outputs, \n",
    "    response_controlador.time, response_controlador.inputs, linewidth = 2)\n",
    "plt.title('Funcion de transferencia realimentada con controlador')\n",
    "plt.xlabel('Time')\n",
    "plt.ylabel('Variable')\n",
    "plt.legend(['Output', 'Input'])\n",
    "plt.grid()\n"
   ]
  },
  {
   "cell_type": "code",
   "execution_count": 40,
   "id": "c41f1ab4",
   "metadata": {
    "scrolled": true
   },
   "outputs": [
    {
     "data": {
      "text/plain": [
       "14.912002166922045"
      ]
     },
     "execution_count": 40,
     "metadata": {},
     "output_type": "execute_result"
    }
   ],
   "source": [
    "e = sum(abs(response_controlador.inputs - response_controlador.outputs))\n",
    "e"
   ]
  },
  {
   "cell_type": "markdown",
   "id": "9b65e02e",
   "metadata": {},
   "source": [
    "***"
   ]
  },
  {
   "cell_type": "markdown",
   "id": "9acd95ec",
   "metadata": {},
   "source": [
    "# CONTROLADOR PID"
   ]
  },
  {
   "cell_type": "markdown",
   "id": "b902951f",
   "metadata": {},
   "source": [
    "### Lazo Abierto"
   ]
  },
  {
   "cell_type": "code",
   "execution_count": 210,
   "id": "793acea7",
   "metadata": {},
   "outputs": [
    {
     "data": {
      "text/latex": [
       "$$\\frac{0.006679}{s^2 + 0.2547 s + 0.008125}$$"
      ],
      "text/plain": [
       "TransferFunction(array([0.006679]), array([1.      , 0.2547  , 0.008125]))"
      ]
     },
     "execution_count": 210,
     "metadata": {},
     "output_type": "execute_result"
    }
   ],
   "source": [
    "num = 0.006679\n",
    "den = [1, 0.2547, 0.008125]\n",
    "G = co.tf(num, den)\n",
    "G"
   ]
  },
  {
   "cell_type": "code",
   "execution_count": 211,
   "id": "38b7f940",
   "metadata": {},
   "outputs": [
    {
     "name": "stdout",
     "output_type": "stream",
     "text": [
      "Informacion de Funcion de transferencia lazo abierto: \n",
      " {'RiseTime': 59.68024589558046, 'SettlingTime': 109.83704829718532, 'SettlingMin': 0.7399180978670309, 'SettlingMax': 0.8220307692307691, 'Overshoot': 0, 'Undershoot': 0, 'Peak': 0.8210379164197981, 'PeakTime': 184.75480378312676, 'SteadyStateValue': 0.8220307692307691}\n"
     ]
    }
   ],
   "source": [
    "data_la = co.step_info(G)\n",
    "print(f'Informacion de Funcion de transferencia lazo abierto: \\n {data_la}')\n",
    "parametros=list(data_la)"
   ]
  },
  {
   "cell_type": "code",
   "execution_count": 212,
   "id": "e073cbda",
   "metadata": {
    "scrolled": true
   },
   "outputs": [
    {
     "data": {
      "image/png": "[encoded data removed]",
      "text/plain": [
       "<Figure size 432x288 with 1 Axes>"
      ]
     },
     "metadata": {
      "needs_background": "light"
     },
     "output_type": "display_data"
    }
   ],
   "source": [
    "response = co.step_response(G)\n",
    "plt.plot(response.time, response.outputs, response.time, response.inputs, linewidth = 2)\n",
    "plt.title('Funcion de transferencia lazo abierto')\n",
    "plt.legend(['Output', 'Input'])\n",
    "plt.xlabel('Time')\n",
    "plt.ylabel('Variable')\n",
    "plt.grid()\n",
    "plt.show()"
   ]
  },
  {
   "cell_type": "markdown",
   "id": "4dfeeebb",
   "metadata": {},
   "source": [
    "### Lazo cerrado"
   ]
  },
  {
   "cell_type": "code",
   "execution_count": 213,
   "id": "11f81f84",
   "metadata": {},
   "outputs": [
    {
     "name": "stdout",
     "output_type": "stream",
     "text": [
      "Informacion de Funcion de transferencia realimentada sin controlador: \n",
      " {'RiseTime': 29.5438968922379, 'SettlingTime': 52.86802601768888, 'SettlingMin': 0.40713858522268975, 'SettlingMax': 0.4511618481491489, 'Overshoot': 0, 'Undershoot': 0, 'Peak': 0.45017395134200144, 'PeakTime': 76.96962611398821, 'SteadyStateValue': 0.4511618481491489}\n"
     ]
    }
   ],
   "source": [
    "G_realimentado = co.feedback(G)\n",
    "data2 = co.step_info(G_realimentado)\n",
    "print(f'Informacion de Funcion de transferencia realimentada sin controlador: \\n {data2}')"
   ]
  },
  {
   "cell_type": "code",
   "execution_count": 214,
   "id": "af772b7f",
   "metadata": {
    "scrolled": false
   },
   "outputs": [
    {
     "data": {
      "image/png": "[encoded data removed]",
      "text/plain": [
       "<Figure size 432x288 with 1 Axes>"
      ]
     },
     "metadata": {
      "needs_background": "light"
     },
     "output_type": "display_data"
    }
   ],
   "source": [
    "response_G = co.step_response(G_realimentado)\n",
    "plt.plot(response_G.time, response_G.outputs, response_G.time, response_G.inputs, linewidth = 2)\n",
    "plt.title('Funcion de transferencia realimentada sin controlador')\n",
    "plt.xlabel('Time')\n",
    "plt.ylabel('Variable')\n",
    "plt.legend(['output', 'input'])\n",
    "plt.grid()\n",
    "plt.show()    "
   ]
  },
  {
   "cell_type": "markdown",
   "id": "9a77a88e",
   "metadata": {},
   "source": [
    "### Función de trasnferencia Controlador PID  "
   ]
  },
  {
   "cell_type": "markdown",
   "id": "fcce0c4f",
   "metadata": {},
   "source": [
    "### <div align=\"center\">$k_{p}$ + $k_{d}$s + $\\frac{k_{i}}{s}$</div>"
   ]
  },
  {
   "cell_type": "markdown",
   "id": "a8c9467f",
   "metadata": {},
   "source": [
    "## <div align=\"center\">$\\frac{k_{d}s^2 + k_{p}s + k_{i} }{s}$</div>"
   ]
  },
  {
   "cell_type": "markdown",
   "id": "603cbd64",
   "metadata": {},
   "source": [
    "### AG"
   ]
  },
  {
   "cell_type": "code",
   "execution_count": 218,
   "id": "11cd2946",
   "metadata": {},
   "outputs": [],
   "source": [
    "def funcion_objetivo(kp, ki, kd):\n",
    "    num = 0.006679\n",
    "    den = [1, 0.2547, 0.008125]\n",
    "    G = co.tf(num, den)\n",
    "    numc = [kd,  kp, ki]\n",
    "    denc = [1, 0]\n",
    "    Gc = co.tf(numc, denc)\n",
    "    Gt = co.series(Gc, G)\n",
    "    Gtc = co.feedback(Gt)\n",
    "    data = co.step_info(Gtc)\n",
    "    parametros = list(data.values())\n",
    "    tss = float(parametros[1])\n",
    "    mp = float(parametros[4])\n",
    "    response = co.step_response(Gtc)\n",
    "    #e_abs = sum(abs(response.inputs - response.outputs))\n",
    "    e_ss = abs(1 - response.outputs[-1]) #Error estado estable\n",
    "    e = abs(90 - tss) + abs(1.1 - mp) + e_ss #MP 10% TSS REDUC 10%\n",
    "    return e"
   ]
  },
  {
   "cell_type": "code",
   "execution_count": 219,
   "id": "62fdbd05",
   "metadata": {},
   "outputs": [],
   "source": [
    "poblacion = Poblacion(\n",
    "                  n_individuos = 100,\n",
    "                  n_variables  = 3,\n",
    "                  limites_inf  = [0.001, 0.01, 0.001],\n",
    "                  limites_sup  = [10, 0.8, 0.8],\n",
    "                  verbose      = False\n",
    "                  )"
   ]
  },
  {
   "cell_type": "code",
   "execution_count": 220,
   "id": "b0c739e2",
   "metadata": {},
   "outputs": [
    {
     "name": "stdout",
     "output_type": "stream",
     "text": [
      "-------------------------------------------\n",
      "Optimización finalizada 2023-05-25 12:43:24\n",
      "-------------------------------------------\n",
      "Duración optimización: 87.79136633872986\n",
      "Número de generaciones: 49\n",
      "Valor óptimo de las variables: [6.597704875321765 0.12293207394551312 0.7395555828970253]\n",
      "Valor función objetivo: 3.3477454335038876\n",
      "\n"
     ]
    }
   ],
   "source": [
    "variables_optimas = poblacion.optimizar(\n",
    "          funcion_objetivo   = funcion_objetivo,\n",
    "          optimizacion       = \"minimizar\",\n",
    "          n_generaciones     = 50,\n",
    "          metodo_seleccion   = \"tournament\",\n",
    "          elitismo           = 0.08,\n",
    "          prob_mut           = 0.1,\n",
    "          distribucion       = \"uniforme\",\n",
    "          media_distribucion = 1,\n",
    "          sd_distribucion    = 1,\n",
    "          min_distribucion   = -1,\n",
    "          max_distribucion   = 1,\n",
    "          parada_temprana    = True,\n",
    "          rondas_parada      = 25,\n",
    "          tolerancia_parada  = 10**-16,\n",
    "          verbose            = False\n",
    "            )\n"
   ]
  },
  {
   "cell_type": "code",
   "execution_count": 221,
   "id": "80284c00",
   "metadata": {},
   "outputs": [
    {
     "data": {
      "text/latex": [
       "$$\\frac{0.1229 s^2 + 6.598 s + 0.1229}{s}$$"
      ],
      "text/plain": [
       "TransferFunction(array([0.12293207, 6.59770488, 0.12293207]), array([1, 0]))"
      ]
     },
     "execution_count": 221,
     "metadata": {},
     "output_type": "execute_result"
    }
   ],
   "source": [
    "kp = 6.597704875321765\n",
    "ti= 0.12293207394551312\n",
    "td= 0.12293207394551312\n",
    "numc = [td,  kp, ti]\n",
    "denc = [1, 0]\n",
    "Gc = co.tf(numc, denc) #Controlador\n",
    "Gc"
   ]
  },
  {
   "cell_type": "code",
   "execution_count": 222,
   "id": "4df9212a",
   "metadata": {},
   "outputs": [
    {
     "data": {
      "text/latex": [
       "$$\\frac{0.0008211 s^2 + 0.04407 s + 0.0008211}{s^3 + 0.2547 s^2 + 0.008125 s}$$"
      ],
      "text/plain": [
       "TransferFunction(array([0.00082106, 0.04406607, 0.00082106]), array([1.      , 0.2547  , 0.008125, 0.      ]))"
      ]
     },
     "execution_count": 222,
     "metadata": {},
     "output_type": "execute_result"
    }
   ],
   "source": [
    "Gt = co.series(Gc, G) #Serie FdT con controlador\n",
    "Gt"
   ]
  },
  {
   "cell_type": "code",
   "execution_count": 223,
   "id": "5e77b79c",
   "metadata": {},
   "outputs": [
    {
     "data": {
      "text/latex": [
       "$$\\frac{0.0008211 s^2 + 0.04407 s + 0.0008211}{s^3 + 0.2555 s^2 + 0.05219 s + 0.0008211}$$"
      ],
      "text/plain": [
       "TransferFunction(array([0.00082106, 0.04406607, 0.00082106]), array([1.00000000e+00, 2.55521063e-01, 5.21910709e-02, 8.21063322e-04]))"
      ]
     },
     "execution_count": 223,
     "metadata": {},
     "output_type": "execute_result"
    }
   ],
   "source": [
    "Gtc = co.feedback(Gt) #Realimentación del sistema\n",
    "Gtc"
   ]
  },
  {
   "cell_type": "code",
   "execution_count": 224,
   "id": "807a68fb",
   "metadata": {},
   "outputs": [
    {
     "name": "stdout",
     "output_type": "stream",
     "text": [
      "Informacion de Funcion de transferencia controlador: \n",
      " {'RiseTime': 8.005771722804827, 'SettlingTime': 90.3508523002259, 'SettlingMin': 0.9126762078330387, 'SettlingMax': 1.0502681939304017, 'Overshoot': 5.026819393040172, 'Undershoot': 0, 'Peak': 1.0502681939304017, 'PeakTime': 17.155225120296056, 'SteadyStateValue': 1.0}\n"
     ]
    }
   ],
   "source": [
    "data_controlador = co.step_info(Gtc)\n",
    "print(f'Informacion de Funcion de transferencia controlador: \\n {data_controlador}')"
   ]
  },
  {
   "cell_type": "code",
   "execution_count": 225,
   "id": "37373c0b",
   "metadata": {},
   "outputs": [
    {
     "data": {
      "image/png": "[encoded data removed]",
      "text/plain": [
       "<Figure size 432x288 with 1 Axes>"
      ]
     },
     "metadata": {
      "needs_background": "light"
     },
     "output_type": "display_data"
    }
   ],
   "source": [
    "response_controlador = co.step_response(Gtc)\n",
    "plt.plot(response_controlador.time, response_controlador.outputs, \n",
    "response_controlador.time, response_controlador.inputs, linewidth = 2)\n",
    "plt.title('Funcion de transferencia realimentada con controlador')\n",
    "plt.xlabel('Time')\n",
    "plt.ylabel('Variable')\n",
    "plt.legend(['Output', 'Input'])\n",
    "plt.grid()\n",
    "plt.show()"
   ]
  },
  {
   "cell_type": "code",
   "execution_count": null,
   "id": "bf53241d",
   "metadata": {},
   "outputs": [],
   "source": []
  }
 ],
 "metadata": {
  "kernelspec": {
   "display_name": "Python 3 (ipykernel)",
   "language": "python",
   "name": "python3"
  },
  "language_info": {
   "codemirror_mode": {
    "name": "ipython",
    "version": 3
   },
   "file_extension": ".py",
   "mimetype": "text/x-python",
   "name": "python",
   "nbconvert_exporter": "python",
   "pygments_lexer": "ipython3",
   "version": "3.9.7"
  }
 },
 "nbformat": 4,
 "nbformat_minor": 5
}
